{
 "cells": [
  {
   "attachments": {},
   "cell_type": "markdown",
   "metadata": {},
   "source": [
    "<h4> Imports"
   ]
  },
  {
   "cell_type": "code",
   "execution_count": 18,
   "metadata": {},
   "outputs": [],
   "source": [
    "from sent_to_vect import SentenceVectorizer     # custom class import\n"
   ]
  },
  {
   "cell_type": "code",
   "execution_count": 19,
   "metadata": {},
   "outputs": [],
   "source": [
    "import numpy as np\n",
    "from sklearn.metrics.pairwise import cosine_similarity"
   ]
  },
  {
   "attachments": {},
   "cell_type": "markdown",
   "metadata": {},
   "source": [
    "<h4> Code"
   ]
  },
  {
   "attachments": {},
   "cell_type": "markdown",
   "metadata": {},
   "source": [
    "## Line-By-Line understandable Code"
   ]
  },
  {
   "cell_type": "code",
   "execution_count": 20,
   "metadata": {},
   "outputs": [],
   "source": [
    "# question : What is the 2nd law of Thernodynamics ?\n",
    "correct_answers = [\"It is impossible to transfer heat by an automatic machine from a body at lower temperature to a body at a higher temperature without the help of external energy\",\n",
    "                    \"Continuous flow of energy cannot be obtained from an object cooling it from its surroundings.\",\n",
    "                    \"It is impossible to construct an engine that will extract heat continuously from a heat source and will completely transform into work\",\n",
    "                    \"No engine can be built which can extract a fixed amount of heat and will convert it totally into work.\"\n",
    "                   ]    # here are all samples of correct answers\n",
    "\n",
    "\n",
    "given_answer = [\"In the world No machine can convert whole heat energy into work\"]\n",
    "\n"
   ]
  },
  {
   "attachments": {},
   "cell_type": "markdown",
   "metadata": {},
   "source": [
    "### Part1 : Correct answer processing"
   ]
  },
  {
   "cell_type": "code",
   "execution_count": 21,
   "metadata": {},
   "outputs": [],
   "source": [
    "sTv = SentenceVectorizer()\n",
    "corr_vector = sTv.sentences_to_vector(correct_answers, Tfidf_vectorizer=False)\n",
    "corr_vector_features = sTv.get_features_name_out()"
   ]
  },
  {
   "cell_type": "code",
   "execution_count": 22,
   "metadata": {},
   "outputs": [
    {
     "data": {
      "text/plain": [
       "['amount',\n",
       " 'automatic',\n",
       " 'body',\n",
       " 'built',\n",
       " 'completely',\n",
       " 'construct',\n",
       " 'continuous',\n",
       " 'continuously',\n",
       " 'convert',\n",
       " 'cooling',\n",
       " 'energy',\n",
       " 'engine',\n",
       " 'external',\n",
       " 'extract',\n",
       " 'fixed',\n",
       " 'flow',\n",
       " 'heat',\n",
       " 'help',\n",
       " 'higher',\n",
       " 'impossible',\n",
       " 'it',\n",
       " 'lower',\n",
       " 'machine',\n",
       " 'no',\n",
       " 'object',\n",
       " 'obtained',\n",
       " 'source',\n",
       " 'surroundings',\n",
       " 'temperature',\n",
       " 'totally',\n",
       " 'transfer',\n",
       " 'transform',\n",
       " 'without',\n",
       " 'work']"
      ]
     },
     "execution_count": 22,
     "metadata": {},
     "output_type": "execute_result"
    }
   ],
   "source": [
    "corr_vector_features"
   ]
  },
  {
   "cell_type": "code",
   "execution_count": 23,
   "metadata": {},
   "outputs": [],
   "source": [
    "# corr_vector = np.array(corr_vector)\n",
    "# corr_vector"
   ]
  },
  {
   "attachments": {},
   "cell_type": "markdown",
   "metadata": {},
   "source": [
    "### Part2 : Given answer processing"
   ]
  },
  {
   "cell_type": "code",
   "execution_count": 24,
   "metadata": {},
   "outputs": [
    {
     "data": {
      "text/plain": [
       "['convert', 'energy', 'heat', 'in', 'machine', 'no', 'whole', 'work', 'world']"
      ]
     },
     "execution_count": 24,
     "metadata": {},
     "output_type": "execute_result"
    }
   ],
   "source": [
    "given_vector = sTv.sentences_to_vector(given_answer, Tfidf_vectorizer=False)\n",
    "given_vector_features = sTv.get_features_name_out()\n",
    "given_vector_features"
   ]
  },
  {
   "attachments": {},
   "cell_type": "markdown",
   "metadata": {},
   "source": [
    "### Final Part"
   ]
  },
  {
   "cell_type": "code",
   "execution_count": 25,
   "metadata": {},
   "outputs": [],
   "source": [
    "# \\* let's check \"given_vector_features\" array's all words, If any of them -\n",
    "#  -doesn't exist- in \"corr_vector_features\" array , we will add/append it to \"corr_vector_features\"\n",
    "\n",
    "for x in given_vector_features:\n",
    "    if x not in corr_vector_features:\n",
    "        corr_vector_features.append(x)\n",
    "        \n",
    "        temp = []\n",
    "        for x in corr_vector:\n",
    "            x.append(0)\n",
    "            temp.append(x)\n",
    "            \n",
    "        corr_vector = temp"
   ]
  },
  {
   "cell_type": "code",
   "execution_count": 35,
   "metadata": {},
   "outputs": [
    {
     "data": {
      "text/plain": [
       "['amount',\n",
       " 'automatic',\n",
       " 'body',\n",
       " 'built',\n",
       " 'completely',\n",
       " 'construct',\n",
       " 'continuous',\n",
       " 'continuously',\n",
       " 'convert',\n",
       " 'cooling',\n",
       " 'energy',\n",
       " 'engine',\n",
       " 'external',\n",
       " 'extract',\n",
       " 'fixed',\n",
       " 'flow',\n",
       " 'heat',\n",
       " 'help',\n",
       " 'higher',\n",
       " 'impossible',\n",
       " 'it',\n",
       " 'lower',\n",
       " 'machine',\n",
       " 'no',\n",
       " 'object',\n",
       " 'obtained',\n",
       " 'source',\n",
       " 'surroundings',\n",
       " 'temperature',\n",
       " 'totally',\n",
       " 'transfer',\n",
       " 'transform',\n",
       " 'without',\n",
       " 'work',\n",
       " 'in',\n",
       " 'whole',\n",
       " 'world']"
      ]
     },
     "execution_count": 35,
     "metadata": {},
     "output_type": "execute_result"
    }
   ],
   "source": [
    "corr_vector_features"
   ]
  },
  {
   "attachments": {},
   "cell_type": "markdown",
   "metadata": {},
   "source": [
    "Now time to arrange the `vector form` of '**givenAnswer**' by using it's features "
   ]
  },
  {
   "cell_type": "code",
   "execution_count": 27,
   "metadata": {},
   "outputs": [
    {
     "data": {
      "text/plain": [
       "['convert', 'energy', 'heat', 'in', 'machine', 'no', 'whole', 'work', 'world']"
      ]
     },
     "execution_count": 27,
     "metadata": {},
     "output_type": "execute_result"
    }
   ],
   "source": [
    "given_vector_features"
   ]
  },
  {
   "cell_type": "code",
   "execution_count": 28,
   "metadata": {},
   "outputs": [
    {
     "data": {
      "text/plain": [
       "array([[0, 1, 2, 0, 0, 0, 0, 0, 0, 0, 1, 0, 1, 0, 0, 0, 1, 1, 1, 1, 1, 1,\n",
       "        1, 0, 0, 0, 0, 0, 2, 0, 1, 0, 1, 0, 0, 0, 0],\n",
       "       [0, 0, 0, 0, 0, 0, 1, 0, 0, 1, 1, 0, 0, 0, 0, 1, 0, 0, 0, 0, 0, 0,\n",
       "        0, 0, 1, 1, 0, 1, 0, 0, 0, 0, 0, 0, 0, 0, 0],\n",
       "       [0, 0, 0, 0, 1, 1, 0, 1, 0, 0, 0, 1, 0, 1, 0, 0, 2, 0, 0, 1, 1, 0,\n",
       "        0, 0, 0, 0, 1, 0, 0, 0, 0, 1, 0, 1, 0, 0, 0],\n",
       "       [1, 0, 0, 1, 0, 0, 0, 0, 1, 0, 0, 1, 0, 1, 1, 0, 1, 0, 0, 0, 0, 0,\n",
       "        0, 1, 0, 0, 0, 0, 0, 1, 0, 0, 0, 1, 0, 0, 0],\n",
       "       [0, 0, 0, 0, 0, 0, 0, 0, 1, 0, 1, 0, 0, 0, 0, 0, 1, 0, 0, 0, 0, 0,\n",
       "        1, 1, 0, 0, 0, 0, 0, 0, 0, 0, 0, 1, 1, 1, 1]])"
      ]
     },
     "execution_count": 28,
     "metadata": {},
     "output_type": "execute_result"
    }
   ],
   "source": [
    "temp = []\n",
    "\n",
    "for corr in corr_vector_features:\n",
    "    if corr in given_vector_features:\n",
    "        temp.append(1)\n",
    "    else:\n",
    "        temp.append(0)\n",
    "            \n",
    "corr_vector.append(temp)\n",
    "corr_vector = np.array(corr_vector)\n",
    "corr_vector\n"
   ]
  },
  {
   "attachments": {},
   "cell_type": "markdown",
   "metadata": {},
   "source": [
    "in the `corr_vector` array, the last element contains our given answer tex's vector array"
   ]
  },
  {
   "cell_type": "code",
   "execution_count": 29,
   "metadata": {},
   "outputs": [],
   "source": [
    "# we will check cosine similarity of that last element with other elements--using cosine similarity"
   ]
  },
  {
   "cell_type": "code",
   "execution_count": 30,
   "metadata": {},
   "outputs": [
    {
     "data": {
      "text/plain": [
       "array([[1.        , 0.08451543, 0.23904572, 0.07071068, 0.2236068 ],\n",
       "       [0.08451543, 1.        , 0.        , 0.        , 0.12598816],\n",
       "       [0.23904572, 0.        , 1.        , 0.42257713, 0.26726124],\n",
       "       [0.07071068, 0.        , 0.42257713, 1.        , 0.42163702],\n",
       "       [0.2236068 , 0.12598816, 0.26726124, 0.42163702, 1.        ]])"
      ]
     },
     "execution_count": 30,
     "metadata": {},
     "output_type": "execute_result"
    }
   ],
   "source": [
    "similarity = cosine_similarity(corr_vector)\n",
    "similarity"
   ]
  },
  {
   "cell_type": "code",
   "execution_count": 31,
   "metadata": {},
   "outputs": [
    {
     "data": {
      "text/plain": [
       "array([0.2236068 , 0.12598816, 0.26726124, 0.42163702])"
      ]
     },
     "execution_count": 31,
     "metadata": {},
     "output_type": "execute_result"
    }
   ],
   "source": [
    "answer_score = similarity[len(similarity)-1]\n",
    "answer_score[:-1]"
   ]
  },
  {
   "cell_type": "code",
   "execution_count": 32,
   "metadata": {},
   "outputs": [],
   "source": [
    "# our correct answers were stored , let's check the best similar match"
   ]
  },
  {
   "cell_type": "code",
   "execution_count": 33,
   "metadata": {},
   "outputs": [
    {
     "name": "stdout",
     "output_type": "stream",
     "text": [
      "Best match :  No engine can be built which can extract a fixed amount of heat and will convert it totally into work.\n",
      "Percentage :  0.4216370213557839 %\n"
     ]
    }
   ],
   "source": [
    "print(\"Best match : \",correct_answers[np.argmax(answer_score[:-1])])\n",
    "print(\"Percentage : \",answer_score[np.argmax(answer_score[:-1])],\"%\")"
   ]
  },
  {
   "cell_type": "code",
   "execution_count": null,
   "metadata": {},
   "outputs": [],
   "source": []
  },
  {
   "cell_type": "code",
   "execution_count": null,
   "metadata": {},
   "outputs": [],
   "source": []
  },
  {
   "attachments": {},
   "cell_type": "markdown",
   "metadata": {},
   "source": [
    "## Custom Function \n",
    "### (check the above 'Line-By-Line understandale' codes for better understanding)"
   ]
  },
  {
   "attachments": {},
   "cell_type": "markdown",
   "metadata": {},
   "source": [
    "Now we will bundle all process that done previously - in a custom-function for reusability"
   ]
  },
  {
   "cell_type": "code",
   "execution_count": 37,
   "metadata": {},
   "outputs": [],
   "source": [
    "def AnswerValidate(CorrectAnswers:list, GivenAnswer:list):\n",
    "    # part:1\n",
    "    sTv = SentenceVectorizer()\n",
    "    corr_vector = sTv.sentences_to_vector(CorrectAnswers, Tfidf_vectorizer=False)\n",
    "    corr_vector_features = sTv.get_features_name_out()\n",
    "    \n",
    "    # part:2\n",
    "    given_vector = sTv.sentences_to_vector(GivenAnswer, Tfidf_vectorizer=False)\n",
    "    given_vector_features = sTv.get_features_name_out() \n",
    "\n",
    "    # part:FINAL\n",
    "    # let's check \"given_vector_features\" array's all words, If any of them -\n",
    "    # -doesn't exist- in \"corr_vector_features\" array , we will add/append it to \"corr_vector_features\"\n",
    "    for x in given_vector_features:\n",
    "        if x not in corr_vector_features:\n",
    "            corr_vector_features.append(x)\n",
    "            \n",
    "            temp = []\n",
    "            for x in corr_vector:\n",
    "                x.append(0)\n",
    "                temp.append(x)\n",
    "                \n",
    "            corr_vector = temp\n",
    "            \n",
    "    # Now time to arrange the `vector form` of '**GivenAnswer**' by using it's features\n",
    "    temp = []        # vector of the given answer text will be store here\n",
    "\n",
    "    for corr in corr_vector_features:\n",
    "        if corr in given_vector_features:\n",
    "            temp.append(1)\n",
    "        else:\n",
    "            temp.append(0)\n",
    "            \n",
    "    \n",
    "    # adding the new vector (of the given answer text) to correct answer's vector array.\n",
    "    corr_vector.append(temp)\n",
    "    corr_vector = np.array(corr_vector)\n",
    "    \n",
    "    # TIME TO CHECK THE COSINE SIMILARITY\n",
    "    similarity = cosine_similarity(corr_vector)\n",
    "    answer_score = similarity[len(similarity)-1]\n",
    "    print(\"Best match : \",CorrectAnswers[np.argmax(answer_score[:-1])])\n",
    "    print(\"Percentage : \",answer_score[np.argmax(answer_score[:-1])],\"%\")\n",
    "    "
   ]
  },
  {
   "cell_type": "code",
   "execution_count": null,
   "metadata": {},
   "outputs": [],
   "source": []
  },
  {
   "cell_type": "code",
   "execution_count": 42,
   "metadata": {},
   "outputs": [
    {
     "name": "stdout",
     "output_type": "stream",
     "text": [
      "Best match :  It is impossible to transfer heat by an automatic machine from a body at lower temperature to a body at a higher temperature without the help of external energy\n",
      "Percentage :  0.7416198487095663 %\n"
     ]
    }
   ],
   "source": [
    "# question : What is the 2nd law of Thernodynamics ?\n",
    "correct_answers = [\"It is impossible to transfer heat by an automatic machine from a body at lower temperature to a body at a higher temperature without the help of external energy\",\n",
    "                    \"Continuous flow of energy cannot be obtained from an object cooling it from its surroundings.\",\n",
    "                    \"It is impossible to construct an engine that will extract heat continuously from a heat source and will completely transform into work\",\n",
    "                    \"No engine can be built which can extract a fixed amount of heat and will convert it totally into work.\"\n",
    "                   ]    # here are all samples of correct answers\n",
    "\n",
    "\n",
    "given_answer = [\"It is impossible to transfer heat from lower temperature to higher temperature, without using any external energy\"]\n",
    "\n",
    "\n",
    "\n",
    "# using custom function\n",
    "AnswerValidate(correct_answers, given_answer)"
   ]
  },
  {
   "cell_type": "code",
   "execution_count": null,
   "metadata": {},
   "outputs": [],
   "source": []
  }
 ],
 "metadata": {
  "kernelspec": {
   "display_name": "Python 3",
   "language": "python",
   "name": "python3"
  },
  "language_info": {
   "codemirror_mode": {
    "name": "ipython",
    "version": 3
   },
   "file_extension": ".py",
   "mimetype": "text/x-python",
   "name": "python",
   "nbconvert_exporter": "python",
   "pygments_lexer": "ipython3",
   "version": "3.10.5"
  },
  "orig_nbformat": 4
 },
 "nbformat": 4,
 "nbformat_minor": 2
}
